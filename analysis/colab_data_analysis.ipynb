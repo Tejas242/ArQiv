{
 "cells": [
  {
   "cell_type": "markdown",
   "metadata": {},
   "source": [
    "# Analyze ArXiv Dataset\n",
    "\n",
    "This notebook loads a subset of the ArXiv dataset and prints key fields (paper_id, title, abstract) so you can analyze why many documents lack a title."
   ]
  },
  {
   "cell_type": "code",
   "execution_count": 2,
   "metadata": {},
   "outputs": [
    {
     "name": "stdout",
     "output_type": "stream",
     "text": []
    }
   ],
   "source": [
    "from datasets import load_dataset\n",
    "from itertools import islice\n",
    "\n",
    "# Use streaming mode to avoid downloading the full dataset\n",
    "dataset = load_dataset('scientific_papers', 'arxiv', split='train', streaming=True)\n",
    "\n",
    "print('Showing sample documents:')\n",
    "for i, item in enumerate(islice(dataset, 10)):\n",
    "    print(f\"\\nDocument {i}:\")\n",
    "    print(\"paper_id:\", item.get('paper_id', ''))\n",
    "    print(\"title:\", item.get('article', ''))\n",
    "    print(\"abstract:\", item.get('abstract', ''))\n",
    "    print(\"---\")"
   ]
  },
  {
   "cell_type": "code",
   "execution_count": 10,
   "metadata": {},
   "outputs": [],
   "source": [
    "it = iter(dataset)"
   ]
  },
  {
   "cell_type": "code",
   "execution_count": 11,
   "metadata": {},
   "outputs": [
    {
     "data": {},
     "execution_count": 11,
     "metadata": {},
     "output_type": "execute_result"
    }
   ],
   "source": [
    "next(it)"
   ]
  },
  {
   "cell_type": "code",
   "execution_count": null,
   "metadata": {},
   "outputs": [],
   "source": []
  }
 ],
 "metadata": {
  "kernelspec": {
   "display_name": "base",
   "language": "python",
   "name": "python3"
  },
  "language_info": {
   "codemirror_mode": {
    "name": "ipython",
    "version": 3
   },
   "file_extension": ".py",
   "mimetype": "text/x-python",
   "name": "python",
   "nbconvert_exporter": "python",
   "pygments_lexer": "ipython3",
   "version": "3.12.9"
  }
 },
 "nbformat": 4,
 "nbformat_minor": 2
}
